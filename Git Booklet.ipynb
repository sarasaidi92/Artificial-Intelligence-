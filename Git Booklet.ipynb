{
 "cells": [
  {
   "cell_type": "markdown",
   "id": "dba35a70-d754-4b12-926e-a8c4725ccb7b",
   "metadata": {},
   "source": [
    "**Git:** \n",
    "```\n",
    "Git is a free and open-source distributed version control system designed to handle everything from small to very large projects with speed and efficiency. It is basically, software for tracking changes in any set of files, usually used for coordinating work among programmers collaboratively developing source code during software development.\n",
    "```"
   ]
  },
  {
   "cell_type": "markdown",
   "id": "ca2732c1-6bad-478e-b7a4-6b7b70a5e13d",
   "metadata": {},
   "source": [
    "**Features:**\n",
    "- It is massively used by programmers who work on projects in a team for the following purpose.\n",
    "- Keep track of all files in a project.\n",
    "- Record changes done in project files.\n",
    "- Compare and analyze codes.\n",
    "- Restore previous versions.\n",
    "- Merge code from different systems of team members."
   ]
  },
  {
   "cell_type": "markdown",
   "id": "a8681485-9d45-4379-baa8-0a3dea3cada9",
   "metadata": {},
   "source": [
    "**How to create a new Git repository?**\n",
    "1. Create a new folder for your project.\n",
    "2. Open the folder in Git BASH.\n",
    "3. Issue the git init command to create the new Git repo."
   ]
  },
  {
   "cell_type": "markdown",
   "id": "8ed90f4e-bb5a-40bc-8924-166007a53233",
   "metadata": {},
   "source": [
    "**create a Local Repository:**\n",
    "```\n",
    "$ git init\n",
    "```"
   ]
  },
  {
   "cell_type": "markdown",
   "id": "c2014168-74d8-42e1-b1bf-783487a207cb",
   "metadata": {},
   "source": [
    "**The git status:**\n",
    "- displays the state of the working directory and the staging area.\n",
    "- It lets you see which changes have been staged, which haven't.\n",
    "- which files aren't being tracked by Git."
   ]
  },
  {
   "cell_type": "markdown",
   "id": "2b5ba7bd-deae-498a-bd48-9274edb13519",
   "metadata": {},
   "source": [
    "**Git Status:**\n",
    "```\n",
    "$ git status\n",
    "```"
   ]
  },
  {
   "cell_type": "markdown",
   "id": "a72a1b81-eda9-4eef-a053-af6726413315",
   "metadata": {},
   "source": [
    "**For Tracking:**\n",
    "```\n",
    "$ git add\n",
    "```"
   ]
  },
  {
   "cell_type": "markdown",
   "id": "a41f2899-9551-4fe6-94b8-8850e9feb721",
   "metadata": {},
   "source": [
    "**The General Explanation That Can Be Seen:** ---> git commit -am is a convenient command to stage and commit at once for TRACKED(=STAGED) files.\n",
    "```\n",
    "$ git commit -m\n",
    "```"
   ]
  },
  {
   "cell_type": "markdown",
   "id": "7a0042a8-b625-460d-b75b-69cfb64ed0ef",
   "metadata": {},
   "source": [
    "**To Introduce Ourselves:**\n",
    "```\n",
    "$ git config\n",
    "```"
   ]
  },
  {
   "cell_type": "markdown",
   "id": "20591df6-3ef3-4898-bf5d-943cb44109db",
   "metadata": {},
   "source": [
    "**The git config** command is a convenience function that is used to set Git configuration values on a global or local project level."
   ]
  },
  {
   "cell_type": "markdown",
   "id": "e5dc51a4-f1f4-4279-b992-5f299813c81e",
   "metadata": {},
   "source": [
    "**stages all the changes:**\n",
    "```\n",
    "$ git add -A\n",
    "```"
   ]
  },
  {
   "cell_type": "markdown",
   "id": "0c2561e1-8bc7-4857-a5bb-921d698ef36d",
   "metadata": {},
   "source": [
    "**The git log:** \n",
    "command displays committed snapshots. It lets you list the project history, filter it, and search for specific changes.\n",
    "```\n",
    "$ git log\n",
    "```"
   ]
  },
  {
   "cell_type": "markdown",
   "id": "8fe7337c-9183-4458-b40b-21c39aea1441",
   "metadata": {},
   "source": [
    " **git diff:**---> Shows All Changes\n",
    " ```\n",
    "is a multi-use Git command that when executed runs a diff function on Git data sources. These data sources can be commits, branches, files and more.\n",
    "\n",
    "$ git diff\n",
    "```"
   ]
  },
  {
   "cell_type": "markdown",
   "id": "938c0797-efa2-47bb-8ec0-6024f2994444",
   "metadata": {},
   "source": [
    "**Git Help:** If we are having trouble remembering commands or options for commands, we can use Git help \n",
    "```\n",
    "$ git help\n",
    "```"
   ]
  }
 ],
 "metadata": {
  "kernelspec": {
   "display_name": "Python 3 (ipykernel)",
   "language": "python",
   "name": "python3"
  },
  "language_info": {
   "codemirror_mode": {
    "name": "ipython",
    "version": 3
   },
   "file_extension": ".py",
   "mimetype": "text/x-python",
   "name": "python",
   "nbconvert_exporter": "python",
   "pygments_lexer": "ipython3",
   "version": "3.12.1"
  }
 },
 "nbformat": 4,
 "nbformat_minor": 5
}
