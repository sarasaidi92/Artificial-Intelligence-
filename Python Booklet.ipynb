{
 "cells": [
  {
   "cell_type": "markdown",
   "id": "ef4b8f0c-4989-4cea-a7d9-0f66a0a010e9",
   "metadata": {},
   "source": [
    "**Python Is a Case Sensitive Programming Language.**"
   ]
  },
  {
   "cell_type": "markdown",
   "id": "e2047017-746d-44c4-96b8-911415139d3b",
   "metadata": {},
   "source": [
    "**Python Is a Simple Calculator.**\n"
   ]
  },
  {
   "cell_type": "markdown",
   "id": "c3d2f2b7-2a8f-4ba1-840f-2ef737f36c35",
   "metadata": {},
   "source": [
    "**Disadvantages of Python**\n",
    "1. Slow speed\n",
    "2. Communication with other programming languages is weak"
   ]
  },
  {
   "cell_type": "markdown",
   "id": "7978890c-0f28-4946-966c-5b8b1cefd942",
   "metadata": {},
   "source": [
    "**Python Editors:**\n",
    "- Pycharm\n",
    "- Spyder\n",
    "- Wing\n",
    "- IDLE\n",
    "- Atom\n",
    "- VS Code "
   ]
  },
  {
   "cell_type": "markdown",
   "id": "fdc2a60a-9836-4dd1-ad56-dafaaadfd31e",
   "metadata": {},
   "source": [
    "**Naming variables:**\n",
    "1. The number must not be prime.\n",
    "2. Symbols are not used in variable names.\n",
    "   1. Only underline is allowed.\n",
    "      "
   ]
  },
  {
   "cell_type": "markdown",
   "id": "6483dcca-bb23-424a-9888-ab396f0fa10e",
   "metadata": {},
   "source": [
    "**Python's types:**\n",
    "- Integer(int)\n",
    "- Float\n",
    "- String(str)\n",
    "- List\n",
    "- Bool\n",
    "- Set\n",
    "- Dictionary\n",
    "   "
   ]
  },
  {
   "cell_type": "markdown",
   "id": "ad9e5a77-9f7c-42b8-9390-3daea6fa08b1",
   "metadata": {},
   "source": [
    "**Types of printing:**\n",
    "\n",
    "- Comma(,)\n",
    "- Sum of strings\n",
    "- %s\n",
    "- .Format"
   ]
  },
  {
   "cell_type": "markdown",
   "id": "a41f4c10-65f2-4ccb-b2d0-e42891f10cfc",
   "metadata": {},
   "source": [
    "**If condition:**\n",
    "```\n",
    "if cond 1:\n",
    "    ------\n",
    "    ------\n",
    "    ------\n",
    "else:\n",
    "    ------\n",
    "    ------\n",
    "    ------\n",
    "```"
   ]
  },
  {
   "cell_type": "markdown",
   "id": "b7d93831-df6d-4776-bcc6-340b95eb3757",
   "metadata": {},
   "source": [
    "**Example of Condition:**\n",
    "```\n",
    "if x < 0:\n",
    "    print('Your Number Is minus.')\n",
    "else:\n",
    "    if x > 0:\n",
    "        print('Your Number Is positive.')\n",
    "```"
   ]
  },
  {
   "cell_type": "markdown",
   "id": "5b2227c9-c170-4318-ad5b-cc7f758f064a",
   "metadata": {},
   "source": [
    "**Collection Built-in:**\n",
    "1. List ----> [ ]\n",
    "2. Tuple ----> ( )\n",
    "3. Set ----> { }\n",
    "4. Dictionary ----> { }"
   ]
  },
  {
   "cell_type": "markdown",
   "id": "4259dd1d-3c66-4ae6-bdbc-4738f82e9bfb",
   "metadata": {},
   "source": [
    "**1. List:**\n",
    "\n",
    "- Members are separated by commas.\n",
    "- Members of a list can have any types."
   ]
  },
  {
   "cell_type": "markdown",
   "id": "9de33932-5972-426f-9caa-904fae072967",
   "metadata": {},
   "source": [
    "**Index [ ]:**\n",
    "\n",
    "- A list has an index with all its members.\n",
    "- The index starts from zero."
   ]
  },
  {
   "cell_type": "markdown",
   "id": "99612fa8-d5da-45c2-9ca8-ecdf18a39a22",
   "metadata": {},
   "source": [
    "**List methods:**\n",
    "\n",
    "- Len ---> The number of list members.\n",
    "- .append() ---> Add a member to the list.\n",
    "- .remove() ---> Deletes the first value.\n",
    "- clear() ---> Deletes the members of the list.\n",
    "- .pop() ---> The last member is removed and can be stored in a variable.\n",
    "- .sort() ---> Sorts numbers from small to large."
   ]
  },
  {
   "cell_type": "markdown",
   "id": "08a0443e-7921-4fc7-a49b-478f95d7b50d",
   "metadata": {},
   "source": [
    "**Examples of List:**\n",
    "```\n",
    "l1 = [1, 2, 3]\n",
    "print('l1:', l1)\n",
    "print('type(l1):', type(l1)) ---> type(l1): list\n",
    "# Indexing\n",
    "l2 = [7, 4, 1, 5, 3]\n",
    "print('l2:', l2) ---> l2: [7, 4, 1, 5, 3]\n",
    "print('l2[0]:', l2[0]) ---> l2[0]: 7\n",
    "print('l2[2]:', l2[2]) ---> l2[2]: 1\n",
    "print('l2[8]:', l2[8])  --> IndexError: list index out of range\n",
    "\n",
    "print('len(l2):', len(l2)) ---> len(l2): 5\n",
    "\n",
    "l2.append(6)\n",
    "print('l2 After append:', l2) ---> l2 After append: [7, 4, 1, 5, 3, 6]\n",
    "\n",
    "l2.remove(4)\n",
    "print('l2 After remove:', l2) ---> l2 After remove: [7, 1, 5, 3]\n",
    "\n",
    "l2.clear()\n",
    "print('l2 after clear:', l2) ---> l2 after clear: []\n",
    "\n",
    "x = l2.pop()\n",
    "print('x:', x)\n",
    "print('l2 after pop:', l2)\n",
    "\n",
    "l2.sort() ---> [1, 3, 4, 5, 7]\n",
    "```"
   ]
  },
  {
   "cell_type": "markdown",
   "id": "d9631c45-c88c-46f7-b4a5-8d463844815a",
   "metadata": {},
   "source": [
    "**2. Tuple**\n",
    "\n",
    "- It is used to store multiple values in a variable.\n",
    "- A tuple is not mutable."
   ]
  },
  {
   "cell_type": "markdown",
   "id": "c1be34e2-2693-4581-a0ba-a7ca7f8d8bb6",
   "metadata": {},
   "source": [
    "**Examples of Tuple:**\n",
    "```\n",
    "t1 = (1, 2, 3)\n",
    "print('t1:', t1)\n",
    "print('type(t1):', type(t1)) ---> type(t1): tuple\n",
    "print('len(t1):', len(t1)) ---> len(t1): 3\n",
    "```"
   ]
  },
  {
   "cell_type": "markdown",
   "id": "8c014245-b749-4ab4-8a40-5b30c6e676da",
   "metadata": {},
   "source": [
    "**3. Set:**\n",
    "1. It must have been sorted.\n",
    "2. It does not have duplicate members."
   ]
  },
  {
   "cell_type": "markdown",
   "id": "6edd461a-974b-4099-99b2-b8e59502472b",
   "metadata": {},
   "source": [
    "**Set methods:**\n",
    "\n",
    "- .add() ---> Add a member to the list.\n",
    "- .updates() ---> Make changes.\n",
    "- .remove() ---> Delete a member.\n",
    "- .discard() ---> Delete a member.\n",
    "- .union() or | ---> Union.\n",
    "- .intersection or & ---> Intersection."
   ]
  },
  {
   "cell_type": "markdown",
   "id": "43d5f646-0f08-4c40-b11b-91d6a9b00d3d",
   "metadata": {},
   "source": [
    "**Examples of Set:**\n",
    "```\n",
    "s1 = {3, 4, 5, 6, 9}\n",
    "print('s1:', s1)\n",
    "print('type(s1):', type(s1)) ---> type(s1): set\n",
    "print('len(s1):', len(s1)) ---> len(s1): 5\n",
    "s1.add(2)\n",
    "print('s1 after add():', s1) ---> s1 after add(): {2, 3, 4, 5, 6, 9}\n",
    "s2 = {3, 1, 2}\n",
    "s3 = {5, 4, 3}\n",
    "s2.update(s3)\n",
    "print('s2 after update():', s2) ---> s2 after update(): {1, 2, 3, 4, 5}\n",
    "s2.remove(3)\n",
    "print('s2 after remove():', s2) ---> s2 after remove(): {1, 2, 4, 5}\n",
    "s2.discard(2)\n",
    "print('s2 after discard():', s2) ---> s2 after discard(): {1, 4, 5}\n",
    "\n",
    "s4 = {3, 1, 2}\n",
    "s5 = {5, 4, 3}\n",
    "s6 = s4.union(s5)\n",
    "print('s6:', s6) ---> s6: {1, 2, 3, 4, 5}\n",
    "```"
   ]
  },
  {
   "cell_type": "markdown",
   "id": "426cb368-269a-4e1b-9e32-bf2e3abf5320",
   "metadata": {},
   "source": [
    "**4. Dictionary:**\n",
    "```\n",
    "d = {\n",
    "     k1:v1,\n",
    "     k2:v2,\n",
    "     k3:v3\n",
    "}\n",
    "\n",
    "d[k]---> v\n",
    "```"
   ]
  },
  {
   "cell_type": "markdown",
   "id": "4cef14d1-225d-4c9c-a2f1-94836d2fbc2a",
   "metadata": {},
   "source": [
    "**Examples of Dictionary:**\n",
    "```\n",
    "d1 = {\n",
    "    'sun': 'khorshid',\n",
    "    'moon': 'mah'\n",
    "}\n",
    "\n",
    "print('d1:', d1)\n",
    "print('type(d1):', type(d1))\n",
    "print(\"d1['sun']:\", d1['sun']) ---> d1['sun']: khorshid\n",
    "print(\"d1['moon']:\", d1['moon']) ---> d1['moon']: mah\n",
    "\n",
    "x = d1['sun']\n",
    "print('x:', x) ---> khorshid\n",
    "```"
   ]
  },
  {
   "cell_type": "markdown",
   "id": "023aa107-84ff-4d61-9abd-1eb81b9db29c",
   "metadata": {},
   "source": [
    "**Loops:**\n",
    "They are used to avoid repeating the code.\n",
    "1. For ---> The number of repetitions is specified.\n",
    "2. While ---> The number of repetitions is unknown."
   ]
  },
  {
   "cell_type": "markdown",
   "id": "82232e2f-0932-415b-a73c-4bc4dfb29b4a",
   "metadata": {},
   "source": [
    "**1. For loop:**\n",
    "```\n",
    "for block\n",
    "for _____ in ______:    \n",
    "    ___________\n",
    "    ___________\n",
    "```"
   ]
  },
  {
   "cell_type": "markdown",
   "id": "58700b4e-36f9-4a85-affd-ab4d995c1669",
   "metadata": {},
   "source": [
    "**Example of For Loops:**\n",
    "```\n",
    "for counter in [False, 5.6, 9, [1, 2]]:\n",
    "    print(counter, type(counter)) ---> false, 5.6, 9, [1,2]\n",
    "```"
   ]
  },
  {
   "cell_type": "markdown",
   "id": "49821c64-de30-4b49-8609-f0a4f32d4bc8",
   "metadata": {},
   "source": [
    "**2. While loop:**\n",
    "```\n",
    "while condition:\n",
    "    _________\n",
    "    _________\n",
    "\n",
    "    Break\n",
    "```"
   ]
  },
  {
   "cell_type": "markdown",
   "id": "ebea6abc-7ec8-48fa-92ec-2a26690ca4ef",
   "metadata": {},
   "source": [
    "**Example of While Loops:**\n",
    "```\n",
    "x = 4\n",
    "while x > 0:\n",
    "    print(x) ---> 4, 3, 2, 1\n",
    "    x = x - 1\n",
    "```"
   ]
  },
  {
   "cell_type": "markdown",
   "id": "4e90fdec-a92f-48c1-97ff-43303fff104c",
   "metadata": {},
   "source": [
    "**Functional Programming:**\n",
    "\n",
    "- Increases Speed\n",
    "- It Allows Programmers To Work Together On a Project.\n",
    "  \n",
    "  ```\n",
    "  def plus(a, b):\n",
    "    r = a + b\n",
    "    return r\n",
    "  x = plus(8, 5)\n",
    "  y = plus(4, -5)\n",
    "  print('x:', x)\n",
    "  print('y:', y)\n",
    "  ```\n",
    "\n"
   ]
  }
 ],
 "metadata": {
  "kernelspec": {
   "display_name": "Python 3 (ipykernel)",
   "language": "python",
   "name": "python3"
  },
  "language_info": {
   "codemirror_mode": {
    "name": "ipython",
    "version": 3
   },
   "file_extension": ".py",
   "mimetype": "text/x-python",
   "name": "python",
   "nbconvert_exporter": "python",
   "pygments_lexer": "ipython3",
   "version": "3.12.1"
  }
 },
 "nbformat": 4,
 "nbformat_minor": 5
}
