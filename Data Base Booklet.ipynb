{
 "cells": [
  {
   "cell_type": "markdown",
   "id": "7e53b110-2e2e-4084-b49a-0556dd71f50f",
   "metadata": {},
   "source": [
    "**Data Base:**\n",
    "```\n",
    "A database is information that is set up for easy access, management and updating. Computer databases typically store aggregations of data records or files that contain information, such as sales transactions, customer data, financials and product information.\n",
    "Databases are used for storing, maintaining and accessing any sort of data. They collect information on people, places or things. That information is gathered in one place so that it can be observed and analyzed. Databases can be thought of as an organized collection of information.\n",
    "It is a set of several tables that create the database.\n",
    "```"
   ]
  },
  {
   "cell_type": "markdown",
   "id": "4e76fcf3-e891-4656-a680-baf43ee3e1ad",
   "metadata": {},
   "source": [
    "**Types of databases:**\n",
    "```\n",
    "There are many types of databases. They may be classified according to content type: bibliographic, full text, numeric and images. In computing, databases are often classified based on the organizational approach they use.\n",
    "Some of the main organizational databases include the following:\n",
    "1. Relational Data Base(SQL)\n",
    "2. Non-Relational Data Base(No-SQL)\n",
    "```"
   ]
  },
  {
   "cell_type": "markdown",
   "id": "02f8ac84-7355-47e2-92ee-a0b8706d6720",
   "metadata": {},
   "source": [
    "**Types of RDBMS Software** ---> A DBMS enables users to create and manage a database. It also helps users create, read, update and delete data in a database.\n",
    "- My SQL\n",
    "- SQL Server\n",
    "- Sqlite\n",
    "- Oracle\n",
    "- Postgresql"
   ]
  },
  {
   "cell_type": "markdown",
   "id": "ec206078-33d2-49ad-a534-62e14fac18aa",
   "metadata": {},
   "source": [
    "**Types of No-RDBMS Software:**\n",
    "\n",
    "- Mongo DB\n",
    "- Fire Base"
   ]
  },
  {
   "cell_type": "markdown",
   "id": "5b3a8bc7-5181-4619-a8b7-9c416594ae95",
   "metadata": {},
   "source": [
    "**SQL Commands** ---> SQL commands are very used to interact with the database. These commands allow users to perform various actions on a database.\n",
    "\n",
    "- DDL ---> Data Definition Language.\n",
    "- DCL ---> Data Control Language.\n",
    "- DML ---> Data Manipulate Language.\n",
    "- TCL ---> Transaction Control Language.\n",
    "- DQL ---> Data Query Language."
   ]
  },
  {
   "cell_type": "markdown",
   "id": "78b2e20b-b6f3-42aa-8c9d-7fdc8ede4b5d",
   "metadata": {},
   "source": [
    "**Four Operators** ---> An operator is a reserved word or a character that is used to query our database in a SQL expression. To query a database using operators, we use a WHERE clause. Operators are necessary to define a condition in SQL, as they act as a connector between two or more conditions.\n",
    "1. C ---> Create\n",
    "2. R ---> Read/ Retrieve\n",
    "3. U ---> Update\n",
    "4. D ---> Delete"
   ]
  },
  {
   "cell_type": "markdown",
   "id": "081073c6-4377-458e-bca8-75fe9c509f02",
   "metadata": {},
   "source": [
    "**Data Types In SQL** ---> Each column in a database table is required to have a name and a data type.\n",
    "An SQL developer must decide what type of data that will be stored inside each column when creating a table. The data type is a guideline for SQL to understand what type of data is expected inside of each column, and it also identifies how SQL will interact with the stored data.\n",
    "\n",
    "- Integer\n",
    "- Decimal\n",
    "- Varchar or String\n",
    "- Date\n",
    "- Time Stamps\n",
    "- Blob"
   ]
  },
  {
   "cell_type": "markdown",
   "id": "06f1c839-6ba3-4603-8f8d-6e045eca9108",
   "metadata": {},
   "source": [
    "**Key Types In SQL** ---> Keys are one of the basic requirements of a relational database model. It is widely used to identify the tuples(rows) uniquely in the table. We also use keys to set up relations amongst various columns and tables of a relational database.\n",
    "1. Primary Key(PK)\n",
    "   1. It is a unique key.\n",
    "   2. It can identify only one tuple (a record) at a time.\n",
    "   3. It has no duplicate values, it has unique values.\n",
    "   4. It cannot be NULL.\n",
    "   5. Primary keys are not necessarily to be a single column; more than one column can also be a primary key for a table.\n",
    "3. Foreing Key(FK)\n",
    "   1. It is a key it acts as a primary key in one table and it acts as \n",
    "   2. secondary key in another table.\n",
    "   3. It combines two or more relations (tables) at a time.\n",
    "   4. They act as a cross-reference between the tables\n",
    "5. Composite Key(CK\n",
    "   1. It acts as a primary key if there is no primary key in a table\n",
    "   2. Two or more attributes are used together to make a composite key.\n",
    "6. Super Key(SK)\n",
    "   1. Adding zero or more attributes to the candidate key generates the super key.\n",
    "   2. A candidate key is a super key but vice versa is not true.\n",
    "   3. Super Key values may also be NULL.\n",
    "7. Alternate Key(AK)\n",
    "   1. All the keys which are not primary keys are called alternate keys.\n",
    "   2. It is a secondary key.\n",
    "   3. It contains two or more fields to identify two or more records.\n",
    "   4. These values are repeated."
   ]
  },
  {
   "cell_type": "markdown",
   "id": "879945f6-a2b9-4f00-97c6-f793ccad7997",
   "metadata": {},
   "source": [
    "**Create Database** ---> The SQL CREATE DATABASE Statement​​ The CREATE DATABASE statement is used to create a new SQL database.\n",
    "```\n",
    "Create Database ---- ;\n",
    "```"
   ]
  },
  {
   "cell_type": "markdown",
   "id": "f5e3d3ea-d703-4df6-a62c-986a2d83857f",
   "metadata": {},
   "source": [
    "**For Use** ---> The use command is used when there are multiple databases in the SQL and the user or programmer specifically wants to use a particular database.\n",
    "```\n",
    "Use --- ;\n",
    "```"
   ]
  },
  {
   "cell_type": "markdown",
   "id": "bbb9c91b-86e2-49d6-8b11-ab29a703f510",
   "metadata": {},
   "source": [
    "**Create Table** ---> SQL CREATE TABLE Statement is used to create a new table in a database. Users can define the table structure by specifying the column’s name and data type in the CREATE TABLE command.\n",
    "```\n",
    "Create Table --- ( , , , );\n",
    "```"
   ]
  },
  {
   "cell_type": "markdown",
   "id": "fd014ede-a7ce-40e5-9e8b-4d8262031470",
   "metadata": {},
   "source": [
    " | ID  |  Name     | Age  | \n",
    " |-----|-----------|------|\n",
    " |  1  | Sara      |  30  |\n",
    " |  2  | Maryam    |  25  |"
   ]
  },
  {
   "cell_type": "markdown",
   "id": "11072468-98a4-4715-9950-8d66d005e036",
   "metadata": {},
   "source": [
    "**Insert Information** ---> There are several ways to add data to a database table. One of the most common methods is using SQL statements: CREATE TABLE and INSERT INTO.\n",
    "```\n",
    "Insert Into --- Values\n",
    "    ( ),\n",
    "    ( ),\n",
    "    ( );\n",
    "```"
   ]
  },
  {
   "cell_type": "markdown",
   "id": "cec14b43-03db-4035-b49e-590aa5aab0be",
   "metadata": {},
   "source": [
    "**Select Information** ---> The SELECT statement is used to select data from a database.\n",
    "```\n",
    "Select --- From --- ;\n",
    "```"
   ]
  },
  {
   "cell_type": "markdown",
   "id": "4bfd6994-ca76-4309-9a36-5ef7d64f1e05",
   "metadata": {},
   "source": [
    "**Drop Table** ---> The DROP TABLE statement is used to drop an existing table in a database.\n",
    "```\n",
    "Drop Table --- ;\n",
    "```"
   ]
  },
  {
   "cell_type": "markdown",
   "id": "c8716344-25d5-4cf5-8f37-12da501c8628",
   "metadata": {},
   "source": [
    "**Drop Database** ---> The DROP DATABASE statement is used to drop an existing SQL database.\n",
    "```\n",
    "Drop Database --- ;\n",
    "```"
   ]
  }
 ],
 "metadata": {
  "kernelspec": {
   "display_name": "Python 3 (ipykernel)",
   "language": "python",
   "name": "python3"
  },
  "language_info": {
   "codemirror_mode": {
    "name": "ipython",
    "version": 3
   },
   "file_extension": ".py",
   "mimetype": "text/x-python",
   "name": "python",
   "nbconvert_exporter": "python",
   "pygments_lexer": "ipython3",
   "version": "3.12.1"
  }
 },
 "nbformat": 4,
 "nbformat_minor": 5
}
