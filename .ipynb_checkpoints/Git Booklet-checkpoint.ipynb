{
 "cells": [
  {
   "cell_type": "markdown",
   "id": "dba35a70-d754-4b12-926e-a8c4725ccb7b",
   "metadata": {},
   "source": [
    "**Git** ---> Version Control System"
   ]
  },
  {
   "cell_type": "markdown",
   "id": "8ed90f4e-bb5a-40bc-8924-166007a53233",
   "metadata": {},
   "source": [
    "**create a Local Repository:**\n",
    "```\n",
    "$ git init\n",
    "```"
   ]
  },
  {
   "cell_type": "markdown",
   "id": "2b5ba7bd-deae-498a-bd48-9274edb13519",
   "metadata": {},
   "source": [
    "**Git Status:**\n",
    "```\n",
    "$ git status\n",
    "```"
   ]
  },
  {
   "cell_type": "markdown",
   "id": "a72a1b81-eda9-4eef-a053-af6726413315",
   "metadata": {},
   "source": [
    "**For Tracking:**\n",
    "```\n",
    "$ git add\n",
    "```"
   ]
  },
  {
   "cell_type": "markdown",
   "id": "a41f2899-9551-4fe6-94b8-8850e9feb721",
   "metadata": {},
   "source": [
    "**The General Explanation That Can Be Seen:**\n",
    "```\n",
    "$ git commit -m\n",
    "```"
   ]
  },
  {
   "cell_type": "markdown",
   "id": "7a0042a8-b625-460d-b75b-69cfb64ed0ef",
   "metadata": {},
   "source": [
    "**To Introduce Ourselves:**\n",
    "```\n",
    "$ git config\n",
    "```"
   ]
  },
  {
   "cell_type": "markdown",
   "id": "e5dc51a4-f1f4-4279-b992-5f299813c81e",
   "metadata": {},
   "source": [
    "**Add Them All Together:**\n",
    "```\n",
    "$ git add -A\n",
    "```"
   ]
  },
  {
   "cell_type": "markdown",
   "id": "0c2561e1-8bc7-4857-a5bb-921d698ef36d",
   "metadata": {},
   "source": [
    "**It Shows The List Of All Committees:**\n",
    "```\n",
    "$ git log\n",
    "```"
   ]
  },
  {
   "cell_type": "markdown",
   "id": "8fe7337c-9183-4458-b40b-21c39aea1441",
   "metadata": {},
   "source": [
    "**Shows All Changes:**\n",
    "```\n",
    "$ git diff\n",
    "```"
   ]
  },
  {
   "cell_type": "markdown",
   "id": "938c0797-efa2-47bb-8ec0-6024f2994444",
   "metadata": {},
   "source": [
    "**To Guide:**\n",
    "```\n",
    "$ git help\n",
    "```"
   ]
  },
  {
   "cell_type": "code",
   "execution_count": null,
   "id": "320c93d9-65d7-40fb-971a-864b6ebc5626",
   "metadata": {},
   "outputs": [],
   "source": []
  }
 ],
 "metadata": {
  "kernelspec": {
   "display_name": "Python 3 (ipykernel)",
   "language": "python",
   "name": "python3"
  },
  "language_info": {
   "codemirror_mode": {
    "name": "ipython",
    "version": 3
   },
   "file_extension": ".py",
   "mimetype": "text/x-python",
   "name": "python",
   "nbconvert_exporter": "python",
   "pygments_lexer": "ipython3",
   "version": "3.12.1"
  }
 },
 "nbformat": 4,
 "nbformat_minor": 5
}
