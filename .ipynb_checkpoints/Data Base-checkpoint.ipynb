{
 "cells": [
  {
   "cell_type": "markdown",
   "id": "7e53b110-2e2e-4084-b49a-0556dd71f50f",
   "metadata": {},
   "source": [
    "**Data Base:**\n",
    "```\n",
    "It is a set of several tables that create the database.\n",
    "```"
   ]
  },
  {
   "cell_type": "markdown",
   "id": "4e76fcf3-e891-4656-a680-baf43ee3e1ad",
   "metadata": {},
   "source": [
    "**Types of databases:**\n",
    "1. Relational Data Base(SQL)\n",
    "2. Non-Relational Data Base(No-SQL)"
   ]
  },
  {
   "cell_type": "markdown",
   "id": "02f8ac84-7355-47e2-92ee-a0b8706d6720",
   "metadata": {},
   "source": [
    "**Types of RDBMS Software:**\n",
    "\n",
    "- My SQL\n",
    "- SQL Server\n",
    "- Sqlite\n",
    "- Oracle\n",
    "- Postgresql"
   ]
  },
  {
   "cell_type": "markdown",
   "id": "ec206078-33d2-49ad-a534-62e14fac18aa",
   "metadata": {},
   "source": [
    "**Types of No-RDBMS Software:**\n",
    "\n",
    "- Mongo DB\n",
    "- Fire Base"
   ]
  },
  {
   "cell_type": "markdown",
   "id": "5b3a8bc7-5181-4619-a8b7-9c416594ae95",
   "metadata": {},
   "source": [
    "**SQL Commands:**\n",
    "\n",
    "- DDL ---> Data Definition Language.\n",
    "- DCL ---> Data Control Language.\n",
    "- DML ---> Data Manipulate Language.\n",
    "- TCL ---> Transaction Control Language.\n",
    "- DQL ---> Data Query Language."
   ]
  },
  {
   "cell_type": "markdown",
   "id": "78b2e20b-b6f3-42aa-8c9d-7fdc8ede4b5d",
   "metadata": {},
   "source": [
    "**Four Operators:**\n",
    "1. C ---> Create\n",
    "2. R ---> Read/ Retrieve\n",
    "3. U ---> Update\n",
    "4. D ---> Delete"
   ]
  },
  {
   "cell_type": "markdown",
   "id": "081073c6-4377-458e-bca8-75fe9c509f02",
   "metadata": {},
   "source": [
    "**Data Types In SQL:**\n",
    "\n",
    "- Integer\n",
    "- Decimal\n",
    "- Varchar or String\n",
    "- Date\n",
    "- Time Stamps\n",
    "- Blob"
   ]
  },
  {
   "cell_type": "markdown",
   "id": "06f1c839-6ba3-4603-8f8d-6e045eca9108",
   "metadata": {},
   "source": [
    "**Key Types In SQL:**\n",
    "1. Primary Key(PK)\n",
    "2. Foreing Key(FK)\n",
    "3. Composite Key(CK)\n",
    "4. Super Key(SK)\n",
    "5. Alternate Key(AK)"
   ]
  },
  {
   "cell_type": "markdown",
   "id": "879945f6-a2b9-4f00-97c6-f793ccad7997",
   "metadata": {},
   "source": [
    "**Create Database:**\n",
    "```\n",
    "Create Database ---- ;\n",
    "```"
   ]
  },
  {
   "cell_type": "markdown",
   "id": "f5e3d3ea-d703-4df6-a62c-986a2d83857f",
   "metadata": {},
   "source": [
    "**For Use:**\n",
    "```\n",
    "Use --- ;\n",
    "```"
   ]
  },
  {
   "cell_type": "markdown",
   "id": "bbb9c91b-86e2-49d6-8b11-ab29a703f510",
   "metadata": {},
   "source": [
    "**Create Table:**\n",
    "```\n",
    "Create Table --- ( , , , );\n",
    "```"
   ]
  },
  {
   "cell_type": "markdown",
   "id": "fd014ede-a7ce-40e5-9e8b-4d8262031470",
   "metadata": {},
   "source": [
    " | ID  |  Name     | Age  | \n",
    " |-----|-----------|------|\n",
    " |  1  | Sara      |  30  |\n",
    " |  2  | Maryam    |  25  |"
   ]
  },
  {
   "cell_type": "markdown",
   "id": "11072468-98a4-4715-9950-8d66d005e036",
   "metadata": {},
   "source": [
    "**Insert Information:**\n",
    "```\n",
    "Insert Into --- Values\n",
    "    ( ),\n",
    "    ( ),\n",
    "    ( );\n",
    "```"
   ]
  },
  {
   "cell_type": "markdown",
   "id": "cec14b43-03db-4035-b49e-590aa5aab0be",
   "metadata": {},
   "source": [
    "**Select Information**\n",
    "```\n",
    "Select --- From --- ;\n",
    "```"
   ]
  },
  {
   "cell_type": "markdown",
   "id": "4bfd6994-ca76-4309-9a36-5ef7d64f1e05",
   "metadata": {},
   "source": [
    "**Drop Table:**\n",
    "```\n",
    "Drop Table --- ;\n",
    "```"
   ]
  },
  {
   "cell_type": "markdown",
   "id": "c8716344-25d5-4cf5-8f37-12da501c8628",
   "metadata": {},
   "source": [
    "**Drop Database:**\n",
    "```\n",
    "Drop Database --- ;\n",
    "```"
   ]
  },
  {
   "cell_type": "code",
   "execution_count": null,
   "id": "62e63ec2-0af6-46f7-9efa-74315520da42",
   "metadata": {},
   "outputs": [],
   "source": []
  },
  {
   "cell_type": "code",
   "execution_count": null,
   "id": "687962bd-58f6-46e9-b1a2-04f43d766d3e",
   "metadata": {},
   "outputs": [],
   "source": []
  }
 ],
 "metadata": {
  "kernelspec": {
   "display_name": "Python 3 (ipykernel)",
   "language": "python",
   "name": "python3"
  },
  "language_info": {
   "codemirror_mode": {
    "name": "ipython",
    "version": 3
   },
   "file_extension": ".py",
   "mimetype": "text/x-python",
   "name": "python",
   "nbconvert_exporter": "python",
   "pygments_lexer": "ipython3",
   "version": "3.12.1"
  }
 },
 "nbformat": 4,
 "nbformat_minor": 5
}
